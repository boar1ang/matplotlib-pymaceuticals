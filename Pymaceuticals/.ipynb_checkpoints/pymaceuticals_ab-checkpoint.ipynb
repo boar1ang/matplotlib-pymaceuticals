{
 "cells": [
  {
   "cell_type": "markdown",
   "metadata": {},
   "source": [
    "## Observations and Insights"
   ]
  },
  {
   "cell_type": "markdown",
   "metadata": {},
   "source": []
  },
  {
   "cell_type": "markdown",
   "metadata": {},
   "source": [
    "## Dependencies and starter code"
   ]
  },
  {
   "cell_type": "code",
   "execution_count": 1,
   "metadata": {},
   "outputs": [],
   "source": [
    "# Dependencies and Setup\n",
    "import matplotlib.pyplot as plt\n",
    "import pandas as pd\n",
    "import scipy.stats as st\n",
    "import numpy as np\n",
    "\n",
    "# Study data files\n",
    "mouse_metadata = \"data/Mouse_metadata.csv\"\n",
    "study_results = \"data/Study_results.csv\"\n",
    "\n",
    "# Read the mouse data and the study results\n",
    "mouse_metadata = pd.read_csv(mouse_metadata)\n",
    "study_results = pd.read_csv(study_results)\n",
    "\n",
    "#mouse_metadata.head()"
   ]
  },
  {
   "cell_type": "code",
   "execution_count": 2,
   "metadata": {},
   "outputs": [],
   "source": [
    "#study_results.head()"
   ]
  },
  {
   "cell_type": "code",
   "execution_count": 3,
   "metadata": {},
   "outputs": [
    {
     "data": {
      "text/html": [
       "<div>\n",
       "<style scoped>\n",
       "    .dataframe tbody tr th:only-of-type {\n",
       "        vertical-align: middle;\n",
       "    }\n",
       "\n",
       "    .dataframe tbody tr th {\n",
       "        vertical-align: top;\n",
       "    }\n",
       "\n",
       "    .dataframe thead th {\n",
       "        text-align: right;\n",
       "    }\n",
       "</style>\n",
       "<table border=\"1\" class=\"dataframe\">\n",
       "  <thead>\n",
       "    <tr style=\"text-align: right;\">\n",
       "      <th></th>\n",
       "      <th>Mouse ID</th>\n",
       "      <th>Drug Regimen</th>\n",
       "      <th>Sex</th>\n",
       "      <th>Age_months</th>\n",
       "      <th>Weight (g)</th>\n",
       "      <th>Timepoint</th>\n",
       "      <th>Tumor Volume (mm3)</th>\n",
       "      <th>Metastatic Sites</th>\n",
       "    </tr>\n",
       "  </thead>\n",
       "  <tbody>\n",
       "    <tr>\n",
       "      <th>0</th>\n",
       "      <td>k403</td>\n",
       "      <td>Ramicane</td>\n",
       "      <td>Male</td>\n",
       "      <td>21</td>\n",
       "      <td>16</td>\n",
       "      <td>0</td>\n",
       "      <td>45.000000</td>\n",
       "      <td>0</td>\n",
       "    </tr>\n",
       "    <tr>\n",
       "      <th>1</th>\n",
       "      <td>k403</td>\n",
       "      <td>Ramicane</td>\n",
       "      <td>Male</td>\n",
       "      <td>21</td>\n",
       "      <td>16</td>\n",
       "      <td>5</td>\n",
       "      <td>38.825898</td>\n",
       "      <td>0</td>\n",
       "    </tr>\n",
       "    <tr>\n",
       "      <th>2</th>\n",
       "      <td>k403</td>\n",
       "      <td>Ramicane</td>\n",
       "      <td>Male</td>\n",
       "      <td>21</td>\n",
       "      <td>16</td>\n",
       "      <td>10</td>\n",
       "      <td>35.014271</td>\n",
       "      <td>1</td>\n",
       "    </tr>\n",
       "    <tr>\n",
       "      <th>3</th>\n",
       "      <td>k403</td>\n",
       "      <td>Ramicane</td>\n",
       "      <td>Male</td>\n",
       "      <td>21</td>\n",
       "      <td>16</td>\n",
       "      <td>15</td>\n",
       "      <td>34.223992</td>\n",
       "      <td>1</td>\n",
       "    </tr>\n",
       "    <tr>\n",
       "      <th>4</th>\n",
       "      <td>k403</td>\n",
       "      <td>Ramicane</td>\n",
       "      <td>Male</td>\n",
       "      <td>21</td>\n",
       "      <td>16</td>\n",
       "      <td>20</td>\n",
       "      <td>32.997729</td>\n",
       "      <td>1</td>\n",
       "    </tr>\n",
       "  </tbody>\n",
       "</table>\n",
       "</div>"
      ],
      "text/plain": [
       "  Mouse ID Drug Regimen   Sex  Age_months  Weight (g)  Timepoint  \\\n",
       "0     k403     Ramicane  Male          21          16          0   \n",
       "1     k403     Ramicane  Male          21          16          5   \n",
       "2     k403     Ramicane  Male          21          16         10   \n",
       "3     k403     Ramicane  Male          21          16         15   \n",
       "4     k403     Ramicane  Male          21          16         20   \n",
       "\n",
       "   Tumor Volume (mm3)  Metastatic Sites  \n",
       "0           45.000000                 0  \n",
       "1           38.825898                 0  \n",
       "2           35.014271                 1  \n",
       "3           34.223992                 1  \n",
       "4           32.997729                 1  "
      ]
     },
     "execution_count": 3,
     "metadata": {},
     "output_type": "execute_result"
    }
   ],
   "source": [
    "#Merge tables with inner join\n",
    "merge_table = pd.merge(mouse_metadata, study_results, on=\"Mouse ID\")\n",
    "\n",
    "merge_table.head()\n"
   ]
  },
  {
   "cell_type": "code",
   "execution_count": 4,
   "metadata": {},
   "outputs": [],
   "source": [
    "rec_number = len(merge_table)\n",
    "# rec_number = 1893"
   ]
  },
  {
   "cell_type": "code",
   "execution_count": 5,
   "metadata": {},
   "outputs": [
    {
     "data": {
      "text/plain": [
       "array(['Ramicane', 'Capomulin', 'Infubinol', 'Placebo', 'Ceftamin',\n",
       "       'Stelasyn', 'Zoniferol', 'Ketapril', 'Propriva', 'Naftisol'],\n",
       "      dtype=object)"
      ]
     },
     "execution_count": 5,
     "metadata": {},
     "output_type": "execute_result"
    }
   ],
   "source": [
    "drugs = merge_table[\"Drug Regimen\"].unique()\n",
    "\n",
    "#array of 10 drugs\n",
    "drugs"
   ]
  },
  {
   "cell_type": "code",
   "execution_count": null,
   "metadata": {},
   "outputs": [],
   "source": [
    "#for i in range(0, 10):\n",
    "   # drugs[i+1] = merge_table.loc[(merge_table[\"Drug Regimen\"] == drugs[i])]\n",
    "    #Regimen = [(drugs[i])]\n",
    "    #Regimen"
   ]
  },
  {
   "cell_type": "code",
   "execution_count": null,
   "metadata": {},
   "outputs": [],
   "source": [
    "drugs_group1 = merge_table.loc[(merge_table[\"Drug Regimen\"] == drugs[0])]\n",
    "drugs_group1.head()\n"
   ]
  },
  {
   "cell_type": "code",
   "execution_count": null,
   "metadata": {},
   "outputs": [],
   "source": [
    "group1_mice= len(drugs_group1)\n",
    "group1_mice"
   ]
  },
  {
   "cell_type": "code",
   "execution_count": null,
   "metadata": {},
   "outputs": [],
   "source": [
    "drugs_group2 = merge_table.loc[(merge_table[\"Drug Regimen\"] == drugs[1])]\n",
    "drugs_group2.head()"
   ]
  },
  {
   "cell_type": "code",
   "execution_count": null,
   "metadata": {},
   "outputs": [],
   "source": [
    "group2_mice = len(drugs_group2)\n",
    "group2_mice"
   ]
  },
  {
   "cell_type": "code",
   "execution_count": null,
   "metadata": {},
   "outputs": [],
   "source": [
    "drugs_group3 = merge_table.loc[(merge_table[\"Drug Regimen\"] == drugs[2])]\n",
    "drugs_group3.head()"
   ]
  },
  {
   "cell_type": "code",
   "execution_count": null,
   "metadata": {},
   "outputs": [],
   "source": [
    "group3_mice = len(drugs_group3)\n",
    "group3_mice"
   ]
  },
  {
   "cell_type": "code",
   "execution_count": null,
   "metadata": {},
   "outputs": [],
   "source": [
    "drugs_group4 = merge_table.loc[(merge_table[\"Drug Regimen\"] == drugs[3])]\n",
    "drugs_group4.head()"
   ]
  },
  {
   "cell_type": "code",
   "execution_count": null,
   "metadata": {},
   "outputs": [],
   "source": [
    "group4_mice = len(drugs_group4)\n",
    "group4_mice"
   ]
  },
  {
   "cell_type": "code",
   "execution_count": null,
   "metadata": {},
   "outputs": [],
   "source": [
    "drugs_group5 = merge_table.loc[(merge_table[\"Drug Regimen\"] == drugs[4])]\n",
    "drugs_group5.head()"
   ]
  },
  {
   "cell_type": "code",
   "execution_count": null,
   "metadata": {},
   "outputs": [],
   "source": [
    "group5_mice = len(drugs_group5)\n",
    "group5_mice"
   ]
  },
  {
   "cell_type": "code",
   "execution_count": null,
   "metadata": {},
   "outputs": [],
   "source": [
    "drugs_group6 = merge_table.loc[(merge_table[\"Drug Regimen\"] == drugs[5])]\n",
    "drugs_group6.head()"
   ]
  },
  {
   "cell_type": "code",
   "execution_count": null,
   "metadata": {},
   "outputs": [],
   "source": [
    "group6_mice = len(drugs_group6)\n",
    "group6_mice"
   ]
  },
  {
   "cell_type": "code",
   "execution_count": null,
   "metadata": {},
   "outputs": [],
   "source": [
    "drugs_group7 = merge_table.loc[(merge_table[\"Drug Regimen\"] == drugs[6])]\n",
    "drugs_group7.head()"
   ]
  },
  {
   "cell_type": "code",
   "execution_count": null,
   "metadata": {},
   "outputs": [],
   "source": [
    "group7_mice = len(drugs_group7)\n",
    "group7_mice"
   ]
  },
  {
   "cell_type": "code",
   "execution_count": null,
   "metadata": {},
   "outputs": [],
   "source": [
    "drugs_group8 = merge_table.loc[(merge_table[\"Drug Regimen\"] == drugs[7])]\n",
    "drugs_group8.head()"
   ]
  },
  {
   "cell_type": "code",
   "execution_count": null,
   "metadata": {},
   "outputs": [],
   "source": [
    "group8_mice = len(drugs_group8)\n",
    "group8_mice"
   ]
  },
  {
   "cell_type": "code",
   "execution_count": null,
   "metadata": {},
   "outputs": [],
   "source": [
    "drugs_group9 = merge_table.loc[(merge_table[\"Drug Regimen\"] == drugs[8])]\n",
    "drugs_group9.head()"
   ]
  },
  {
   "cell_type": "code",
   "execution_count": null,
   "metadata": {},
   "outputs": [],
   "source": [
    "group9_mice = len(drugs_group9)\n",
    "group9_mice"
   ]
  },
  {
   "cell_type": "code",
   "execution_count": null,
   "metadata": {},
   "outputs": [],
   "source": [
    "drugs_group10 = merge_table.loc[(merge_table[\"Drug Regimen\"] == drugs[9])]\n",
    "drugs_group10.head()"
   ]
  },
  {
   "cell_type": "code",
   "execution_count": null,
   "metadata": {},
   "outputs": [],
   "source": [
    "group10_mice = len(drugs_group10)\n",
    "group10_mice"
   ]
  },
  {
   "cell_type": "markdown",
   "metadata": {},
   "source": [
    "## Summary statistics"
   ]
  },
  {
   "cell_type": "code",
   "execution_count": null,
   "metadata": {},
   "outputs": [],
   "source": [
    "# Generate a summary statistics table of mean, median, variance, standard deviation, and SEM of the tumor volume for each regimen"
   ]
  },
  {
   "cell_type": "code",
   "execution_count": null,
   "metadata": {},
   "outputs": [],
   "source": [
    "tumor_vol1_mean= (drugs_group1[\"Tumor Volume (mm3)\"].mean())\n",
    "tumor_vol1_mean"
   ]
  },
  {
   "cell_type": "code",
   "execution_count": null,
   "metadata": {},
   "outputs": [],
   "source": [
    "tumor_vol1_median = drugs_group1[\"Tumor Volume (mm3)\"].median()\n",
    "tumor_vol1_median"
   ]
  },
  {
   "cell_type": "code",
   "execution_count": null,
   "metadata": {},
   "outputs": [],
   "source": [
    "tumor_vol1_var = drugs_group1[\"Tumor Volume (mm3)\"].var()\n",
    "tumor_vol1_var"
   ]
  },
  {
   "cell_type": "code",
   "execution_count": null,
   "metadata": {},
   "outputs": [],
   "source": [
    "tumor_vol1_std = drugs_group1[\"Tumor Volume (mm3)\"].std()\n",
    "tumor_vol1_std"
   ]
  },
  {
   "cell_type": "code",
   "execution_count": null,
   "metadata": {},
   "outputs": [],
   "source": [
    "tumor_vol1_sem = drugs_group1[\"Tumor Volume (mm3)\"].sem()\n",
    "tumor_vol1_sem"
   ]
  },
  {
   "cell_type": "code",
   "execution_count": null,
   "metadata": {},
   "outputs": [],
   "source": [
    "tumor_vol2_mean = (drugs_group2[\"Tumor Volume (mm3)\"].mean())\n",
    "tumor_vol2_mean"
   ]
  },
  {
   "cell_type": "code",
   "execution_count": null,
   "metadata": {},
   "outputs": [],
   "source": [
    "tumor_vol2_median = drugs_group2[\"Tumor Volume (mm3)\"].median()\n",
    "tumor_vol2_median"
   ]
  },
  {
   "cell_type": "code",
   "execution_count": null,
   "metadata": {},
   "outputs": [],
   "source": [
    "tumor_vol2_var = drugs_group2[\"Tumor Volume (mm3)\"].var()\n",
    "tumor_vol2_var\n",
    "\n",
    "tumor_vol2_std = drugs_group2[\"Tumor Volume (mm3)\"].std()\n",
    "tumor_vol2_std\n",
    "\n",
    "tumor_vol2_sem = drugs_group2[\"Tumor Volume (mm3)\"].sem()\n",
    "tumor_vol2_sem\n"
   ]
  },
  {
   "cell_type": "code",
   "execution_count": null,
   "metadata": {},
   "outputs": [],
   "source": [
    "tumor_vol3_mean = (drugs_group3[\"Tumor Volume (mm3)\"].mean())\n",
    "tumor_vol3_mean\n",
    "\n",
    "tumor_vol3_median = drugs_group3[\"Tumor Volume (mm3)\"].median()\n",
    "tumor_vol3_median\n",
    "\n",
    "tumor_vol3_var = drugs_group3[\"Tumor Volume (mm3)\"].var()\n",
    "tumor_vol3_var\n",
    "\n",
    "tumor_vol3_std = drugs_group3[\"Tumor Volume (mm3)\"].std()\n",
    "tumor_vol3_std\n",
    "\n",
    "tumor_vol3_sem = drugs_group3[\"Tumor Volume (mm3)\"].sem()\n",
    "tumor_vol3_sem\n"
   ]
  },
  {
   "cell_type": "code",
   "execution_count": null,
   "metadata": {},
   "outputs": [],
   "source": [
    "tumor_vol4_mean = (drugs_group4[\"Tumor Volume (mm3)\"].mean())\n",
    "tumor_vol4_mean\n",
    "\n",
    "tumor_vol4_median = drugs_group4[\"Tumor Volume (mm3)\"].median()\n",
    "tumor_vol4_median\n",
    "\n",
    "tumor_vol4_var = drugs_group4[\"Tumor Volume (mm3)\"].var()\n",
    "tumor_vol4_var\n",
    "\n",
    "tumor_vol4_std = drugs_group4[\"Tumor Volume (mm3)\"].std()\n",
    "tumor_vol4_std\n",
    "\n",
    "tumor_vol4_sem = drugs_group4[\"Tumor Volume (mm3)\"].sem()\n",
    "tumor_vol4_sem\n"
   ]
  },
  {
   "cell_type": "code",
   "execution_count": null,
   "metadata": {},
   "outputs": [],
   "source": [
    "tumor_vol5_mean = (drugs_group5[\"Tumor Volume (mm3)\"].mean())\n",
    "tumor_vol5_mean\n",
    "\n",
    "tumor_vol5_median = drugs_group5[\"Tumor Volume (mm3)\"].median()\n",
    "tumor_vol5_median\n",
    "\n",
    "tumor_vol5_var = drugs_group5[\"Tumor Volume (mm3)\"].var()\n",
    "tumor_vol5_var\n",
    "\n",
    "tumor_vol5_std = drugs_group5[\"Tumor Volume (mm3)\"].std()\n",
    "tumor_vol5_std\n",
    "\n",
    "tumor_vol5_sem = drugs_group5[\"Tumor Volume (mm3)\"].sem()\n",
    "tumor_vol5_sem\n"
   ]
  },
  {
   "cell_type": "code",
   "execution_count": null,
   "metadata": {},
   "outputs": [],
   "source": [
    "tumor_vol6_mean = (drugs_group6[\"Tumor Volume (mm3)\"].mean())\n",
    "tumor_vol6_mean\n",
    "\n",
    "tumor_vol6_median = drugs_group6[\"Tumor Volume (mm3)\"].median()\n",
    "tumor_vol6_median\n",
    "\n",
    "tumor_vol6_var = drugs_group6[\"Tumor Volume (mm3)\"].var()\n",
    "tumor_vol6_var\n",
    "\n",
    "tumor_vol6_std = drugs_group6[\"Tumor Volume (mm3)\"].std()\n",
    "tumor_vol6_std\n",
    "\n",
    "tumor_vol6_sem = drugs_group6[\"Tumor Volume (mm3)\"].sem()\n",
    "tumor_vol6_sem\n"
   ]
  },
  {
   "cell_type": "code",
   "execution_count": null,
   "metadata": {},
   "outputs": [],
   "source": [
    "tumor_vol7_mean = (drugs_group7[\"Tumor Volume (mm3)\"].mean())\n",
    "tumor_vol7_mean\n",
    "\n",
    "tumor_vol7_median = drugs_group7[\"Tumor Volume (mm3)\"].median()\n",
    "tumor_vol7_median\n",
    "\n",
    "tumor_vol7_var = drugs_group7[\"Tumor Volume (mm3)\"].var()\n",
    "tumor_vol7_var\n",
    "\n",
    "tumor_vol7_std = drugs_group7[\"Tumor Volume (mm3)\"].std()\n",
    "tumor_vol7_std\n",
    "\n",
    "tumor_vol7_sem = drugs_group7[\"Tumor Volume (mm3)\"].sem()\n",
    "tumor_vol7_sem\n"
   ]
  },
  {
   "cell_type": "code",
   "execution_count": null,
   "metadata": {},
   "outputs": [],
   "source": [
    "tumor_vol8_mean = (drugs_group8[\"Tumor Volume (mm3)\"].mean())\n",
    "tumor_vol8_mean\n",
    "\n",
    "tumor_vol8_median = drugs_group8[\"Tumor Volume (mm3)\"].median()\n",
    "tumor_vol8_median\n",
    "\n",
    "tumor_vol8_var = drugs_group8[\"Tumor Volume (mm3)\"].var()\n",
    "tumor_vol8_var\n",
    "\n",
    "tumor_vol8_std = drugs_group8[\"Tumor Volume (mm3)\"].std()\n",
    "tumor_vol8_std\n",
    "\n",
    "tumor_vol8_sem = drugs_group8[\"Tumor Volume (mm3)\"].sem()\n",
    "tumor_vol8_sem\n"
   ]
  },
  {
   "cell_type": "code",
   "execution_count": null,
   "metadata": {},
   "outputs": [],
   "source": [
    "tumor_vol9_mean = (drugs_group9[\"Tumor Volume (mm3)\"].mean())\n",
    "tumor_vol9_mean\n",
    "\n",
    "tumor_vol9_median = drugs_group9[\"Tumor Volume (mm3)\"].median()\n",
    "tumor_vol9_median\n",
    "\n",
    "tumor_vol9_var = drugs_group9[\"Tumor Volume (mm3)\"].var()\n",
    "tumor_vol9_var\n",
    "\n",
    "tumor_vol9_std = drugs_group9[\"Tumor Volume (mm3)\"].std()\n",
    "tumor_vol9_std\n",
    "\n",
    "tumor_vol9_sem = drugs_group9[\"Tumor Volume (mm3)\"].sem()\n",
    "tumor_vol9_sem\n"
   ]
  },
  {
   "cell_type": "code",
   "execution_count": null,
   "metadata": {},
   "outputs": [],
   "source": [
    "tumor_vol10_mean = (drugs_group10[\"Tumor Volume (mm3)\"].mean())\n",
    "tumor_vol10_mean\n",
    "\n",
    "tumor_vol10_median = drugs_group10[\"Tumor Volume (mm3)\"].median()\n",
    "tumor_vol10_median\n",
    "\n",
    "tumor_vol10_var = drugs_group10[\"Tumor Volume (mm3)\"].var()\n",
    "tumor_vol10_var\n",
    "\n",
    "tumor_vol10_std = drugs_group10[\"Tumor Volume (mm3)\"].std()\n",
    "tumor_vol10_std\n",
    "\n",
    "tumor_vol10_sem = drugs_group10[\"Tumor Volume (mm3)\"].sem()\n",
    "tumor_vol10_sem\n"
   ]
  },
  {
   "cell_type": "code",
   "execution_count": null,
   "metadata": {},
   "outputs": [],
   "source": [
    "summary_stats1_df = pd.DataFrame({\n",
    "    \"Drug Regimen\": [drugs[0]], \"Tumor Volume Mean\" : [tumor_vol1_mean], \"Tumor Volume Median\" : [tumor_vol1_median], \"Tumor Volume Variance\" : [tumor_vol1_var], \"Tumor Volume Stand. Dev.\": [tumor_vol1_std], \"Tumor Volume SEM\": [tumor_vol1_sem]\n",
    "    })\n",
    "\n",
    "sum1 = summary_stats1_df.style.hide_index()\n",
    "sum1"
   ]
  },
  {
   "cell_type": "code",
   "execution_count": null,
   "metadata": {},
   "outputs": [],
   "source": [
    "summary_stats2_df = pd.DataFrame({\n",
    "    \"Drug Regimen\": [drugs[1]], \"Tumor Volume Mean\" : [tumor_vol1_mean], \"Tumor Volume Median\" : [tumor_vol1_median], \"Tumor Volume Variance\" : [tumor_vol1_var], \"Tumor Volume Stand. Dev.\": [tumor_vol1_std], \"Tumor Volume SEM\": [tumor_vol1_sem]\n",
    "    })\n",
    "sum2 = summary_stats2_df.style.hide_index()\n",
    "sum2"
   ]
  },
  {
   "cell_type": "code",
   "execution_count": null,
   "metadata": {},
   "outputs": [],
   "source": [
    "summary_stats3_df = pd.DataFrame({\n",
    "    \"Drug Regimen\": [drugs[2]], \"Tumor Volume Mean\" : [tumor_vol1_mean], \"Tumor Volume Median\" : [tumor_vol1_median], \"Tumor Volume Variance\" : [tumor_vol1_var], \"Tumor Volume Stand. Dev.\": [tumor_vol1_std], \"Tumor Volume SEM\": [tumor_vol1_sem]\n",
    "    })\n",
    "sum3 = summary_stats3_df.style.hide_index()\n",
    "sum3"
   ]
  },
  {
   "cell_type": "code",
   "execution_count": null,
   "metadata": {},
   "outputs": [],
   "source": [
    "summary_stats4_df = pd.DataFrame({\n",
    "    \"Drug Regimen\": [drugs[3]], \"Tumor Volume Mean\" : [tumor_vol1_mean], \"Tumor Volume Median\" : [tumor_vol1_median], \"Tumor Volume Variance\" : [tumor_vol1_var], \"Tumor Volume Stand. Dev.\": [tumor_vol1_std], \"Tumor Volume SEM\": [tumor_vol1_sem]\n",
    "    })\n",
    "sum4 = summary_stats4_df.style.hide_index()\n",
    "sum4"
   ]
  },
  {
   "cell_type": "code",
   "execution_count": null,
   "metadata": {},
   "outputs": [],
   "source": [
    "summary_stats5_df = pd.DataFrame({\n",
    "    \"Drug Regimen\": [drugs[4]], \"Tumor Volume Mean\" : [tumor_vol1_mean], \"Tumor Volume Median\" : [tumor_vol1_median], \"Tumor Volume Variance\" : [tumor_vol1_var], \"Tumor Volume Stand. Dev.\": [tumor_vol1_std], \"Tumor Volume SEM\": [tumor_vol1_sem]\n",
    "    })\n",
    "sum5 = summary_stats5_df.style.hide_index()\n",
    "sum5"
   ]
  },
  {
   "cell_type": "code",
   "execution_count": null,
   "metadata": {},
   "outputs": [],
   "source": [
    "summary_stats6_df = pd.DataFrame({\n",
    "    \"Drug Regimen\": [drugs[5]], \"Tumor Volume Mean\" : [tumor_vol1_mean], \"Tumor Volume Median\" : [tumor_vol1_median], \"Tumor Volume Variance\" : [tumor_vol1_var], \"Tumor Volume Stand. Dev.\": [tumor_vol1_std], \"Tumor Volume SEM\": [tumor_vol1_sem]\n",
    "    })\n",
    "sum6 = summary_stats6_df.style.hide_index()\n",
    "sum6"
   ]
  },
  {
   "cell_type": "code",
   "execution_count": null,
   "metadata": {},
   "outputs": [],
   "source": [
    "summary_stats7_df = pd.DataFrame({\n",
    "    \"Drug Regimen\": [drugs[6]], \"Tumor Volume Mean\" : [tumor_vol1_mean], \"Tumor Volume Median\" : [tumor_vol1_median], \"Tumor Volume Variance\" : [tumor_vol1_var], \"Tumor Volume Stand. Dev.\": [tumor_vol1_std], \"Tumor Volume SEM\": [tumor_vol1_sem]\n",
    "    })\n",
    "sum7 = summary_stats7_df.style.hide_index()\n",
    "sum7"
   ]
  },
  {
   "cell_type": "code",
   "execution_count": null,
   "metadata": {},
   "outputs": [],
   "source": [
    "summary_stats8_df = pd.DataFrame({\n",
    "    \"Drug Regimen\": [drugs[7]], \"Tumor Volume Mean\" : [tumor_vol1_mean], \"Tumor Volume Median\" : [tumor_vol1_median], \"Tumor Volume Variance\" : [tumor_vol1_var], \"Tumor Volume Stand. Dev.\": [tumor_vol1_std], \"Tumor Volume SEM\": [tumor_vol1_sem]\n",
    "    })\n",
    "sum8 = summary_stats8_df.style.hide_index()\n",
    "sum8"
   ]
  },
  {
   "cell_type": "code",
   "execution_count": null,
   "metadata": {},
   "outputs": [],
   "source": [
    "summary_stats9_df = pd.DataFrame({\n",
    "    \"Drug Regimen\": [drugs[8]], \"Tumor Volume Mean\" : [tumor_vol1_mean], \"Tumor Volume Median\" : [tumor_vol1_median], \"Tumor Volume Variance\" : [tumor_vol1_var], \"Tumor Volume Stand. Dev.\": [tumor_vol1_std], \"Tumor Volume SEM\": [tumor_vol1_sem]\n",
    "    })\n",
    "sum9 = summary_stats9_df.style.hide_index()\n",
    "sum9"
   ]
  },
  {
   "cell_type": "code",
   "execution_count": null,
   "metadata": {},
   "outputs": [],
   "source": [
    "summary_stats10_df = pd.DataFrame({\n",
    "    \"Drug Regimen\": [drugs[9]], \"Tumor Volume Mean\" : [tumor_vol1_mean], \"Tumor Volume Median\" : [tumor_vol1_median], \"Tumor Volume Variance\" : [tumor_vol1_var], \"Tumor Volume Stand. Dev.\": [tumor_vol1_std], \"Tumor Volume SEM\": [tumor_vol1_sem]\n",
    "    })\n",
    "sum10 = summary_stats10_df.style.hide_index()\n",
    "sum10"
   ]
  },
  {
   "cell_type": "markdown",
   "metadata": {},
   "source": [
    "## Bar plots"
   ]
  },
  {
   "cell_type": "code",
   "execution_count": null,
   "metadata": {},
   "outputs": [],
   "source": [
    "# Generate a bar plot showing number of data points for each treatment regimen using pandas\n",
    "x_axis = np.arange(0,10, 1)\n",
    "x_axis"
   ]
  },
  {
   "cell_type": "code",
   "execution_count": null,
   "metadata": {},
   "outputs": [],
   "source": [
    "points = [group1_mice, group2_mice, group3_mice, group4_mice, group5_mice, group6_mice, group7_mice, group8_mice, group9_mice, group10_mice]\n",
    "points"
   ]
  },
  {
   "cell_type": "code",
   "execution_count": null,
   "metadata": {},
   "outputs": [],
   "source": [
    "plt.bar(x_axis, points, align=\"center\")\n",
    "plt.title(\"Data Points per Drug Regimen\")\n",
    "plt.xlabel(\"Drug Name\")\n",
    "plt.ylabel(\"Number of Data Points\")\n",
    "tick_locations = [value for value in x_axis] \n",
    "plt.xticks(tick_locations, [drugs[0], drugs[1], drugs[2], drugs[3], drugs[4], drugs[5], drugs[6] drugs[7], drugs[8], drugs[9], drugs[10]])\n",
    "plt.show()"
   ]
  },
  {
   "cell_type": "code",
   "execution_count": null,
   "metadata": {},
   "outputs": [],
   "source": [
    "# Generate a bar plot showing number of data points for each treatment regimen using pyplot"
   ]
  },
  {
   "cell_type": "markdown",
   "metadata": {},
   "source": [
    "## Pie plots"
   ]
  },
  {
   "cell_type": "code",
   "execution_count": null,
   "metadata": {},
   "outputs": [],
   "source": [
    "# Generate a pie plot showing the distribution of female versus male mice using pandas"
   ]
  },
  {
   "cell_type": "code",
   "execution_count": null,
   "metadata": {},
   "outputs": [],
   "source": [
    "# Generate a pie plot showing the distribution of female versus male mice using pyplot"
   ]
  },
  {
   "cell_type": "markdown",
   "metadata": {},
   "source": [
    "## Quartiles, outliers and boxplots"
   ]
  },
  {
   "cell_type": "code",
   "execution_count": null,
   "metadata": {},
   "outputs": [],
   "source": [
    "# Calculate the final tumor volume of each mouse across four of the most promising treatment regimens. Calculate the IQR and quantitatively determine if there are any potential outliers. "
   ]
  },
  {
   "cell_type": "code",
   "execution_count": null,
   "metadata": {},
   "outputs": [],
   "source": [
    "# Generate a box plot of the final tumor volume of each mouse across four regimens of interest"
   ]
  },
  {
   "cell_type": "markdown",
   "metadata": {},
   "source": [
    "## Line and scatter plots"
   ]
  },
  {
   "cell_type": "code",
   "execution_count": null,
   "metadata": {},
   "outputs": [],
   "source": [
    "# Generate a line plot of time point versus tumor volume for a mouse treated with Capomulin"
   ]
  },
  {
   "cell_type": "code",
   "execution_count": null,
   "metadata": {},
   "outputs": [],
   "source": [
    "# Generate a scatter plot of mouse weight versus average tumor volume for the Capomulin regimen"
   ]
  },
  {
   "cell_type": "code",
   "execution_count": null,
   "metadata": {},
   "outputs": [],
   "source": [
    "# Calculate the correlation coefficient and linear regression model for mouse weight and average tumor volume for the Capomulin regimen"
   ]
  },
  {
   "cell_type": "code",
   "execution_count": null,
   "metadata": {},
   "outputs": [],
   "source": []
  }
 ],
 "metadata": {
  "anaconda-cloud": {},
  "kernelspec": {
   "display_name": "Python 3",
   "language": "python",
   "name": "python3"
  },
  "language_info": {
   "codemirror_mode": {
    "name": "ipython",
    "version": 3
   },
   "file_extension": ".py",
   "mimetype": "text/x-python",
   "name": "python",
   "nbconvert_exporter": "python",
   "pygments_lexer": "ipython3",
   "version": "3.6.9"
  }
 },
 "nbformat": 4,
 "nbformat_minor": 2
}

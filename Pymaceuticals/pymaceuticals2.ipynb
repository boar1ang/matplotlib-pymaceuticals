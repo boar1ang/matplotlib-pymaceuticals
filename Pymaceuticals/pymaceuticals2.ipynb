{
 "cells": [
  {
   "cell_type": "markdown",
   "metadata": {},
   "source": [
    "Type Markdown and LaTeX:  𝛼2"
   ]
  },
  {
   "cell_type": "code",
   "execution_count": null,
   "metadata": {},
   "outputs": [],
   "source": [
    "#Matplotlib Homework\n",
    "%matplotlib notebook\n",
    "%matplotlib inline\n",
    "#Dependencies\n",
    "import pandas as pd\n",
    "import matplotlib.pyplot as plt\n",
    "from scipy.stats import linregress\n",
    "import numpy as np\n",
    "import scipy.stats as st\n",
    "# Study data files\n",
    "mouse_metadata = \"data/Mouse_metadata.csv\"\n",
    "study_results = \"data/Study_results.csv\"\n",
    "#Read in data files\n",
    "mouse_metadata = pd.read_csv(mouse_metadata)\n",
    "study_results = pd.read_csv(study_results)"
   ]
  },
  {
   "cell_type": "markdown",
   "metadata": {},
   "source": [
    "# Observations\n",
    "#There's a positive correlation between mouse weight and average tumor volume for mice on the Capomulin regimen. Ramicane seems to be slightly more promising than Capomulin at reducing tumor volume over time. Of the four drugs selected for comparison in the box plot only Capomulin and Ramicane performed better than the placebo.\n"
   ]
  },
  {
   "cell_type": "markdown",
   "metadata": {},
   "source": [
    "# Combined Study Data"
   ]
  },
  {
   "cell_type": "code",
   "execution_count": null,
   "metadata": {},
   "outputs": [],
   "source": [
    "#Merge tables with inner join\n",
    "merged_table = pd.merge(mouse_metadata, study_results, on=\"Mouse ID\")\n",
    "del merged_table[\"Age_months\"]\n",
    "del merged_table[\"Metastatic Sites\"]\n",
    "merged_table"
   ]
  },
  {
   "cell_type": "code",
   "execution_count": null,
   "metadata": {},
   "outputs": [],
   "source": [
    "#max_wt = merged_table[\"Weight (g)\"].max()\\nmax_wt\n",
    "#min_wt = merged_table[\"Weight (g)\"].min()\\nmin_wt"
   ]
  },
  {
   "cell_type": "code",
   "execution_count": null,
   "metadata": {},
   "outputs": [],
   "source": [
    "#Get array of unique Mouse IDs\n",
    "unique_mice = merged_table[\"Mouse ID\"].unique()\n",
    "#unique_mice"
   ]
  },
  {
   "cell_type": "code",
   "execution_count": null,
   "metadata": {},
   "outputs": [],
   "source": [
    "nbr_unique_mice = len(unique_mice)\n",
    "print(f\"There are {nbr_unique_mice} unique subjects.\")"
   ]
  },
  {
   "cell_type": "code",
   "execution_count": null,
   "metadata": {},
   "outputs": [],
   "source": [
    "rows_per_drug = merged_table[\"Drug Regimen\"].value_counts()\n",
    "rows_per_drug_df = rows_per_drug.to_frame() \n",
    "rows_per_drug_df = rows_per_drug_df.rename(columns={\"Drug Regimen\" : \"Number of Data Pts.\"})\n",
    "rows_per_drug_df.index.name = \"Drug Name\"\n",
    "rows_per_drug_df"
   ]
  },
  {
   "cell_type": "code",
   "execution_count": null,
   "metadata": {},
   "outputs": [],
   "source": [
    "tumor_vol = merged_table.groupby([\"Drug Regimen\"])\n",
    "#Convert GroupBy Object to DataFrame\n",
    "mean_tumor_vol_df = tumor_vol[\"Tumor Volume (mm3)\"].mean().to_frame()\n",
    "mean_tumor_vol_df.columns = [\"Mean Tumor Vol. (mm3)\"]\n",
    "mean_tumor_vol_df"
   ]
  },
  {
   "cell_type": "code",
   "execution_count": null,
   "metadata": {},
   "outputs": [],
   "source": [
    "median_tumor_vol_df = tumor_vol[\"Tumor Volume (mm3)\"].median().to_frame()\n",
    "median_tumor_vol_df.columns = [\"Median Tumor Vol. (mm3)\"]\n",
    "median_tumor_vol_df"
   ]
  },
  {
   "cell_type": "code",
   "execution_count": null,
   "metadata": {},
   "outputs": [],
   "source": [
    "var_tumor_vol_df = tumor_vol[\"Tumor Volume (mm3)\"].var().to_frame()\n",
    "var_tumor_vol_df.columns = [\"Tumor Vol. Variance\"]\n",
    "var_tumor_vol_df"
   ]
  },
  {
   "cell_type": "code",
   "execution_count": null,
   "metadata": {},
   "outputs": [],
   "source": [
    "sem_tumor_vol_df = tumor_vol[\"Tumor Volume (mm3)\"].sem().to_frame()\n",
    "sem_tumor_vol_df.columns = [\"Tumor Vol. SEM\"]\n",
    "sem_tumor_vol_df"
   ]
  },
  {
   "cell_type": "code",
   "execution_count": null,
   "metadata": {},
   "outputs": [],
   "source": [
    "std_tumor_vol_df = tumor_vol[\"Tumor Volume (mm3)\"].std().to_frame()\n",
    "std_tumor_vol_df.columns = [\"Tumor Vol. STD\"]\n",
    "std_tumor_vol_df"
   ]
  },
  {
   "cell_type": "code",
   "execution_count": null,
   "metadata": {},
   "outputs": [],
   "source": [
    "drugs = merged_table[\"Drug Regimen\"].unique()\n",
    "#drugs"
   ]
  },
  {
   "cell_type": "code",
   "execution_count": null,
   "metadata": {},
   "outputs": [],
   "source": [
    "stats_merge1_df = pd.merge(mean_tumor_vol_df, median_tumor_vol_df, on=\"Drug Regimen\")\n",
    "#stats_merge1_df"
   ]
  },
  {
   "cell_type": "code",
   "execution_count": null,
   "metadata": {},
   "outputs": [],
   "source": [
    "stats_merge2_df = pd.merge(stats_merge1_df, var_tumor_vol_df, on =\"Drug Regimen\")\n",
    "#stats_merge2_df"
   ]
  },
  {
   "cell_type": "code",
   "execution_count": null,
   "metadata": {},
   "outputs": [],
   "source": [
    "stats_merge3_df = pd.merge(stats_merge2_df, sem_tumor_vol_df, on=\"Drug Regimen\")\n",
    "#stats_merge3_df"
   ]
  },
  {
   "cell_type": "markdown",
   "metadata": {},
   "source": [
    "# Summary Statistics Table"
   ]
  },
  {
   "cell_type": "code",
   "execution_count": null,
   "metadata": {},
   "outputs": [],
   "source": [
    "full_stats_df = pd.merge(stats_merge3_df, std_tumor_vol_df, on=\"Drug Regimen\")\n",
    "full_stats_df.round(2)"
   ]
  },
  {
   "cell_type": "markdown",
   "metadata": {},
   "source": [
    "# Tumor Volume Statistics by Drug"
   ]
  },
  {
   "cell_type": "markdown",
   "metadata": {},
   "source": [
    "### Pandas Bar Chart"
   ]
  },
  {
   "cell_type": "code",
   "execution_count": null,
   "metadata": {},
   "outputs": [],
   "source": [
    "%matplotlib inline\n",
    "pandas_bar_plot = rows_per_drug_df[[\"Number of Data Pts.\"]]\n",
    "\n",
    "pandas_bar_plot.plot(kind=\"bar\", figsize=(5, 5), facecolor=\"blue\")\n",
    "plt.title(\"Data Points per Drug Regimen\")\n",
    "plt.tight_layout()\n",
    "plt.ylabel(\"Number of Data Points\")\n",
    "plt.grid(linestyle=\"dotted\")\n",
    "plt.show()"
   ]
  },
  {
   "cell_type": "markdown",
   "metadata": {},
   "source": [
    "### Pyplot Bar Chart"
   ]
  },
  {
   "cell_type": "code",
   "execution_count": null,
   "metadata": {},
   "outputs": [],
   "source": [
    "#Bar plot using pyplot\n",
    "drug = drugs\n",
    "rows = rows_per_drug\n",
    "\n",
    "x_axis = np.arange(0, 10, 1)\n",
    "tick_locations = []\n",
    "for x in x_axis:\n",
    "    tick_locations.append(x)\n",
    "    \n",
    "plt.title(\"Data Points per Drug Regimen\", fontsize=12)\n",
    "plt.xlabel(\"Drug Name\", fontsize=12)\n",
    "plt.ylabel(\"Number of Data Points\", fontsize=12)\n",
    "plt.ylim(0, 240)\n",
    "\n",
    "plt.bar(x_axis, rows, facecolor=\"blue\", edgecolor=\"black\", alpha=0.5, align=\"center\",)\n",
    "plt.xticks(tick_locations, drug, rotation=\"vertical\")\n",
    "plt.tight_layout()\n",
    "plt.grid(linestyle=\"dotted\")\n",
    "\n",
    "plt.savefig(\"../../Images/DataPointsByDrug.png\")\n",
    "plt.show()"
   ]
  },
  {
   "cell_type": "markdown",
   "metadata": {},
   "source": [
    "# Sex Distribution of Pymaceuticals Study Subjects"
   ]
  },
  {
   "cell_type": "markdown",
   "metadata": {},
   "source": [
    "### Pyplot Pie Chart"
   ]
  },
  {
   "cell_type": "code",
   "execution_count": null,
   "metadata": {},
   "outputs": [],
   "source": [
    "by_sex_df = merged_table[[\"Mouse ID\", \"Sex\"]]\n",
    "by_sex_df.set_index(\"Mouse ID\")\n",
    "new_data_df = by_sex_df.drop_duplicates()\n",
    "new_data_df\n",
    "count_df = new_data_df[\"Sex\"].value_counts()\n",
    "count_df"
   ]
  },
  {
   "cell_type": "code",
   "execution_count": null,
   "metadata": {},
   "outputs": [],
   "source": [
    "counts = [125, 124]\n",
    "labels = [\"Male Mice\", \"Female Mice\"]\n",
    "colors = [\"lightskyblue\", \"yellowgreen\"]\n",
    "\n",
    "plt.title(\"Sex Distribution of Subjects\")\n",
    "plt.pie(counts, labels = labels, colors = colors, autopct=\"%1.1f%%\", shadow = \"True\", startangle = 90)\n",
    "plt.axis(\"equal\")\n",
    "plt.savefig(\"../../Images/SexDistribution.png\")\n",
    "plt.show()"
   ]
  },
  {
   "cell_type": "code",
   "execution_count": null,
   "metadata": {},
   "outputs": [],
   "source": [
    "count_df.plot(kind=\"pie\", figsize=(5, 5), subplots=True, autopct=\"%1.1f%%\", title=\"Sex Distribution of Subjects\", labels=[\"Male Mice\", \"Female Mice\"],\n",
    "              legend=False, colors = [\"lightskyblue\", \"yellowgreen\"], startangle=90)"
   ]
  },
  {
   "cell_type": "markdown",
   "metadata": {},
   "source": [
    "## Final tumor vol. of each mouse across : Capomulin, Ramicane, Infubinol, & Ceftamin"
   ]
  },
  {
   "cell_type": "code",
   "execution_count": null,
   "metadata": {},
   "outputs": [],
   "source": [
    "Capomulin_table = merged_table.loc[(merged_table[\"Drug Regimen\"]== \"Capomulin\")] \n",
    "Capomulin_table\n",
    "#Capomulin_table[\"Mouse ID\"].nunique()\n",
    "Cap_avg_tum = Capomulin_table[[\"Mouse ID\", \"Timepoint\", \"Weight (g)\", \"Tumor Volume (mm3)\"]]\n",
    "mean_vols = Cap_avg_tum.groupby(\"Mouse ID\").mean()\n",
    "del mean_vols[\"Timepoint\"]\n",
    "Cap_mean_vols = mean_vols.rename(columns={\"Tumor Volume (mm3)\" : \"Mean Tumor Vol\"})\n",
    "Cap_mean_vols[\"Weight (g)\"] = Cap_mean_vols[\"Weight (g)\"].astype('int')\n",
    "Cap_mean_vols.round(1)"
   ]
  },
  {
   "cell_type": "code",
   "execution_count": null,
   "metadata": {},
   "outputs": [],
   "source": [
    "Capomulin_data = Capomulin_table.loc[(Capomulin_table[\"Timepoint\"]==45), :]\n",
    "del Capomulin_data[\"Sex\"]\n",
    "del Capomulin_data[\"Drug Regimen\"]\n",
    "del Capomulin_data[\"Timepoint\"]\n",
    "Capomulin_data = Capomulin_data.set_index([\"Mouse ID\"])\n",
    "Cap_final = Capomulin_data.rename(columns={\"Tumor Volume (mm3)\" : \"Final Tumor Vol\"})\n",
    "Cap_final.round(1)"
   ]
  },
  {
   "cell_type": "code",
   "execution_count": null,
   "metadata": {},
   "outputs": [],
   "source": [
    "Infubinol_table = merged_table.loc[(merged_table[\"Drug Regimen\"]== \"Infubinol\")] \n",
    "Infubinol_table\n",
    "#Infubinol_table[\"Mouse ID\"].nunique()\n",
    "Infubinol_data = Infubinol_table.loc[(Infubinol_table[\"Timepoint\"]==45), :]\n",
    "del Infubinol_data[\"Sex\"]\n",
    "del Infubinol_data[\"Drug Regimen\"]\n",
    "del Infubinol_data[\"Timepoint\"]\n",
    "Infubinol_data = Infubinol_data.set_index([\"Mouse ID\"])\n",
    "Infubinol_data.round(1)\n",
    "Inf_final = Infubinol_data.rename(columns={\"Tumor Volume (mm3)\" : \"Final Tumor Vol\"})\n",
    "Inf_final.round(1)"
   ]
  },
  {
   "cell_type": "code",
   "execution_count": null,
   "metadata": {},
   "outputs": [],
   "source": [
    "Ceftamin_table = merged_table.loc[(merged_table[\"Drug Regimen\"]== \"Ceftamin\")] \n",
    "Ceftamin_table\n",
    "#Ceftamin_table[\"Mouse ID\"].nunique()\n",
    "Ceftamin_data = Ceftamin_table.loc[(Ceftamin_table[\"Timepoint\"]==45), :]\n",
    "del Ceftamin_data[\"Sex\"]\n",
    "del Ceftamin_data[\"Drug Regimen\"]\n",
    "del Ceftamin_data[\"Timepoint\"]\n",
    "Ceftamin_data = Ceftamin_data.set_index([\"Mouse ID\"])\n",
    "Ceftamin_data.round(1)\n",
    "Cef_final = Ceftamin_data.rename(columns={\"Tumor Volume (mm3)\" : \"Final Tumor Vol\"})\n",
    "Cef_final.round(1)"
   ]
  },
  {
   "cell_type": "code",
   "execution_count": null,
   "metadata": {},
   "outputs": [],
   "source": [
    "Ramicane_table = merged_table.loc[(merged_table[\"Drug Regimen\"] == \"Ramicane\")]\n",
    "Ramicane_table\n",
    "#Ramicane_table[\"Mouse ID\"].nunique()\n",
    "Ramicane_data = Ramicane_table.loc[(Ramicane_table[\"Timepoint\"]==45), :]\n",
    "del Ramicane_data[\"Sex\"]\n",
    "del Ramicane_data[\"Drug Regimen\"]\n",
    "del Ramicane_data[\"Timepoint\"]\n",
    "Ramicane_data = Ramicane_data.set_index([\"Mouse ID\"])\n",
    "Ramicane_data.round(1)\n",
    "Ram_final = Ramicane_data.rename(columns={\"Tumor Volume (mm3)\" : \"Final Tumor Vol\"})\n",
    "Ram_final"
   ]
  },
  {
   "cell_type": "markdown",
   "metadata": {},
   "source": [
    "# Box Plots"
   ]
  },
  {
   "cell_type": "code",
   "execution_count": null,
   "metadata": {},
   "outputs": [],
   "source": [
    "# Generate a box plot of the final tumor volume of each mouse across four regimens of interest\n",
    "Cap_volumes = Cap_final[\"Final Tumor Vol\"]\n",
    "quartiles = Cap_volumes.quantile([0.25, 0.5, 0.75])\n",
    "lowerq = quartiles[0.25]\n",
    "upperq = quartiles[0.75]\n",
    "iqr = upperq-lowerq\n",
    "print(f\"The lower quartile of Capomulin volumes is: {round(lowerq)}\")\n",
    "print(f\"The upper quartile of Capomulin volumes is: {round(upperq)}\")\n",
    "print(f\"The IQR of Capomulin volumes is: {round(iqr)}; median is: {round(quartiles[0.5])} \")\n",
    "lower_bound = lowerq - (1.5*iqr)\n",
    "upper_bound = upperq + (1.5*iqr)\n",
    "print(f\"Values above {round(upper_bound)} and below {round(lower_bound)} could be outliers.\")\n",
    "print(\"++++++++++++++++++++++++++++++++++++++++\")\n",
    "Ram_volumes = Ram_final[\"Final Tumor Vol\"]\n",
    "quartiles = Ram_volumes.quantile([0.25, 0.5, 0.75])\n",
    "lowerq = quartiles[0.25]\n",
    "upperq = quartiles[0.75]\n",
    "iqr = upperq-lowerq\n",
    "print(f\"The lower quartile of Ramicane volumes is: {round(lowerq)}\")\n",
    "print(f\"The upper quartile of Ramicane volumes is: {round(upperq)}\")\n",
    "print(f\"The IQR of Ramicane volumes is: {round(iqr)}; median is: {round(quartiles[0.5])} \")\n",
    "lower_bound = lowerq - (1.5*iqr)\n",
    "upper_bound = upperq + (1.5*iqr)\n",
    "print(f\"Values above {round(upper_bound)} and below {round(lower_bound)} could be outliers.\")\n",
    "print(\"++++++++++++++++++++++++++++++++++++++++\")\n",
    "Cef_volumes = Cef_final[\"Final Tumor Vol\"]\n",
    "quartiles = Cef_volumes.quantile([0.25, 0.5, 0.75])\n",
    "lowerq = quartiles[0.25]\n",
    "upperq = quartiles[0.75]\n",
    "iqr = upperq-lowerq\n",
    "print(f\"The lower quartile of Ceftamin volumes is: {round(lowerq)}\")\n",
    "print(f\"The upper quartile of Ceftamin volumes is: {round(upperq)}\")\n",
    "print(f\"The IQR of Ceftamin volumes is: {round(iqr)}; median is: {round(quartiles[0.5])} \")\n",
    "lower_bound = lowerq - (1.5*iqr)\n",
    "upper_bound = upperq + (1.5*iqr)\n",
    "print(f\"Values above {round(upper_bound)} and below {round(lower_bound)} could be outliers.\")\n",
    "print(\"++++++++++++++++++++++++++++++++++++++++\")\n",
    "Inf_volumes = Inf_final[\"Final Tumor Vol\"]\n",
    "quartiles = Inf_volumes.quantile([0.25, 0.5, 0.75])\n",
    "lowerq = quartiles[0.25]\n",
    "upperq = quartiles[0.75]\n",
    "iqr = upperq-lowerq\n",
    "print(f\"The lower quartile of Infubinol volumes is: {round(lowerq)}\")\n",
    "print(f\"The upper quartile of Infubinol volumes is: {round(upperq)}\")\n",
    "print(f\"The IQR of Infubinol volumes is: {round(iqr)}; median is: {round(quartiles[0.5])} \")\n",
    "lower_bound = lowerq - (1.5*iqr)\n",
    "upper_bound = upperq + (1.5*iqr)\n",
    "print(f\"Values above {round(upper_bound)} and below {round(lower_bound)} could be outliers.\")\n",
    "print(\"++++++++++++++++++++++++++++++++++++++++\")\n",
    "boxplot_data = [Cap_volumes, Ram_volumes, Cef_volumes, Inf_volumes]\n",
    "fig = plt.figure(1, figsize=(10,10))\n",
    "ax = fig.add_subplot()\n",
    "ax.set_title(\"Final Tumor Volumes Across Top 4 Drugs\", fontsize=16)\n",
    "ax.set_xticklabels([\"Capomulin\", \"Ramicane\", \"Ceftamin\", \"Infubinol\"], fontsize=14)\n",
    "ax.set_ylabel('Tumor Vol (mm3)', fontsize=16)\n",
    "bp = ax.boxplot(boxplot_data, notch=True, showfliers=True)\n",
    "for box in bp [\"boxes\"]:\n",
    "    box.set(color = \"green\", linewidth=2)\n",
    "for flier in bp [\"fliers\"]:\n",
    "    flier.set(marker = 'o', color=\"black\", alpha=0.5)\n",
    "for whisker in bp[\"whiskers\"]:\n",
    "    whisker.set(color=\"blue\", linewidth=2)\n",
    "fig.savefig(\"../../Images/top4boxplt.png\")"
   ]
  },
  {
   "cell_type": "markdown",
   "metadata": {},
   "source": [
    "## Line and Scatter Plots"
   ]
  },
  {
   "cell_type": "code",
   "execution_count": null,
   "metadata": {},
   "outputs": [],
   "source": [
    "# Generate a line plot of time point versus tumor volume for a mouse treated with Capomulin\n",
    "vol_by_timept = Capomulin_table.groupby(\"Timepoint\").mean()\n",
    "del vol_by_timept[\"Weight (g)\"]\n",
    "vol_by_timept = round((vol_by_timept), 1)\n",
    "times = vol_by_timept.index\n",
    "volumes = vol_by_timept[\"Tumor Volume (mm3)\"]\n",
    "\n",
    "plt.plot(times, volumes, linewidth=2)\n",
    "plt.title(\"Time versus Tumor Vol for Capomulin\")\n",
    "volumes_handle, = plt.plot(times, volumes, color='red', label=\"Tumor Volume (mm3)\")\n",
    "plt.xlabel(\"Timepoint (days)\", fontsize=12)\n",
    "plt.ylabel(\"Tumor Volume (mm3)\", fontsize=12)\n",
    "plt.legend(loc=\"upper right\")\n",
    "\n",
    "plt.savefig(\"../../Images/TumorVol_over_Time_Capomulin.png\")\n",
    "plt.show()"
   ]
  },
  {
   "cell_type": "code",
   "execution_count": null,
   "metadata": {
    "scrolled": true
   },
   "outputs": [],
   "source": [
    "# Generate a scatter plot of mouse weight versus average tumor volume for the Capomulin regimen\n",
    "x_axis = Cap_mean_vols[\"Weight (g)\"]\n",
    "y_axis = Cap_mean_vols[\"Mean Tumor Vol\"]\n",
    "mean_tumor_vol = Cap_mean_vols[\"Mean Tumor Vol\"]\n",
    "plt.title(\"Weight vs. Mean Tumor Vol for Capomulin\", fontsize=13)\n",
    "plt.xlabel(\"Mouse Weight (g)\", fontsize=12)\n",
    "plt.ylabel(\"Mean Tumor Volume (mm3)\", fontsize=12)\n",
    "plt.scatter(x_axis, y_axis, marker = \"o\", color = \"blue\")\n",
    "plt.savefig(\"../../Images/Weight_v_MeanTumorVol.png\")\n",
    "weight = Cap_mean_vols[\"Weight (g)\"]\n",
    "(slope, intercept, rvalue, pvalue, stderr) = linregress(weight, mean_tumor_vol)\n",
    "regress_values = weight * slope + intercept\n",
    "line_eq = \"y= \" + str(round(slope,2)) + \"x + \" + str(round(intercept,2))\n",
    "plt.plot(weight,regress_values,\"r-\")\n",
    "plt.annotate(line_eq,(20,36), fontsize=15, color=\"red\")"
   ]
  },
  {
   "cell_type": "code",
   "execution_count": null,
   "metadata": {},
   "outputs": [],
   "source": [
    "# Calculate the correlation coefficient and linear regression model for mouse weight and average tumor volume for the Capomulin regimen\n",
    "weight = Cap_mean_vols[\"Weight (g)\"]\n",
    "mean_tumor_vol = Cap_mean_vols[\"Mean Tumor Vol\"]\n",
    "correlation = st.pearsonr(mean_tumor_vol, weight)\n",
    "print(f\"The correlation between mouse weight and mean tumor volume is {round(correlation[0],2)}\")"
   ]
  },
  {
   "cell_type": "code",
   "execution_count": null,
   "metadata": {},
   "outputs": [],
   "source": []
  },
  {
   "cell_type": "code",
   "execution_count": null,
   "metadata": {},
   "outputs": [],
   "source": []
  }
 ],
 "metadata": {
  "kernelspec": {
   "display_name": "Python 3",
   "language": "python",
   "name": "python3"
  },
  "language_info": {
   "codemirror_mode": {
    "name": "ipython",
    "version": 3
   },
   "file_extension": ".py",
   "mimetype": "text/x-python",
   "name": "python",
   "nbconvert_exporter": "python",
   "pygments_lexer": "ipython3",
   "version": "3.6.9"
  }
 },
 "nbformat": 4,
 "nbformat_minor": 4
}
